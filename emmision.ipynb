{
 "cells": [
  {
   "cell_type": "code",
   "execution_count": 1,
   "id": "7438bf5b-f377-43db-a787-7a1de17ee057",
   "metadata": {},
   "outputs": [],
   "source": [
    "import numpy as np\n",
    "import pandas as pd\n",
    "import matplotlib.pyplot as plt\n",
    "import seaborn as sns"
   ]
  },
  {
   "cell_type": "code",
   "execution_count": 2,
   "id": "0a087046-a5e1-4398-b3a6-0f84058696a8",
   "metadata": {},
   "outputs": [
    {
     "name": "stdout",
     "output_type": "stream",
     "text": [
      "file read successfully\n"
     ]
    }
   ],
   "source": [
    "df = pd.read_csv('./Data/CO2 Emissions_Canada.csv')\n",
    "print(\"file read successfully\")"
   ]
  },
  {
   "cell_type": "code",
   "execution_count": 3,
   "id": "f0a1c492-8d28-482e-a2f6-61778334cbf9",
   "metadata": {},
   "outputs": [
    {
     "data": {
      "text/html": [
       "<div>\n",
       "<style scoped>\n",
       "    .dataframe tbody tr th:only-of-type {\n",
       "        vertical-align: middle;\n",
       "    }\n",
       "\n",
       "    .dataframe tbody tr th {\n",
       "        vertical-align: top;\n",
       "    }\n",
       "\n",
       "    .dataframe thead th {\n",
       "        text-align: right;\n",
       "    }\n",
       "</style>\n",
       "<table border=\"1\" class=\"dataframe\">\n",
       "  <thead>\n",
       "    <tr style=\"text-align: right;\">\n",
       "      <th></th>\n",
       "      <th>Make</th>\n",
       "      <th>Model</th>\n",
       "      <th>Vehicle Class</th>\n",
       "      <th>Engine Size(L)</th>\n",
       "      <th>Cylinders</th>\n",
       "      <th>Transmission</th>\n",
       "      <th>Fuel Type</th>\n",
       "      <th>Fuel Consumption City (L/100 km)</th>\n",
       "      <th>Fuel Consumption Hwy (L/100 km)</th>\n",
       "      <th>Fuel Consumption Comb (L/100 km)</th>\n",
       "      <th>Fuel Consumption Comb (mpg)</th>\n",
       "      <th>CO2 Emissions(g/km)</th>\n",
       "    </tr>\n",
       "  </thead>\n",
       "  <tbody>\n",
       "    <tr>\n",
       "      <th>0</th>\n",
       "      <td>ACURA</td>\n",
       "      <td>ILX</td>\n",
       "      <td>COMPACT</td>\n",
       "      <td>2.0</td>\n",
       "      <td>4</td>\n",
       "      <td>AS5</td>\n",
       "      <td>Z</td>\n",
       "      <td>9.9</td>\n",
       "      <td>6.7</td>\n",
       "      <td>8.5</td>\n",
       "      <td>33</td>\n",
       "      <td>196</td>\n",
       "    </tr>\n",
       "    <tr>\n",
       "      <th>1</th>\n",
       "      <td>ACURA</td>\n",
       "      <td>ILX</td>\n",
       "      <td>COMPACT</td>\n",
       "      <td>2.4</td>\n",
       "      <td>4</td>\n",
       "      <td>M6</td>\n",
       "      <td>Z</td>\n",
       "      <td>11.2</td>\n",
       "      <td>7.7</td>\n",
       "      <td>9.6</td>\n",
       "      <td>29</td>\n",
       "      <td>221</td>\n",
       "    </tr>\n",
       "    <tr>\n",
       "      <th>2</th>\n",
       "      <td>ACURA</td>\n",
       "      <td>ILX HYBRID</td>\n",
       "      <td>COMPACT</td>\n",
       "      <td>1.5</td>\n",
       "      <td>4</td>\n",
       "      <td>AV7</td>\n",
       "      <td>Z</td>\n",
       "      <td>6.0</td>\n",
       "      <td>5.8</td>\n",
       "      <td>5.9</td>\n",
       "      <td>48</td>\n",
       "      <td>136</td>\n",
       "    </tr>\n",
       "    <tr>\n",
       "      <th>3</th>\n",
       "      <td>ACURA</td>\n",
       "      <td>MDX 4WD</td>\n",
       "      <td>SUV - SMALL</td>\n",
       "      <td>3.5</td>\n",
       "      <td>6</td>\n",
       "      <td>AS6</td>\n",
       "      <td>Z</td>\n",
       "      <td>12.7</td>\n",
       "      <td>9.1</td>\n",
       "      <td>11.1</td>\n",
       "      <td>25</td>\n",
       "      <td>255</td>\n",
       "    </tr>\n",
       "    <tr>\n",
       "      <th>4</th>\n",
       "      <td>ACURA</td>\n",
       "      <td>RDX AWD</td>\n",
       "      <td>SUV - SMALL</td>\n",
       "      <td>3.5</td>\n",
       "      <td>6</td>\n",
       "      <td>AS6</td>\n",
       "      <td>Z</td>\n",
       "      <td>12.1</td>\n",
       "      <td>8.7</td>\n",
       "      <td>10.6</td>\n",
       "      <td>27</td>\n",
       "      <td>244</td>\n",
       "    </tr>\n",
       "    <tr>\n",
       "      <th>5</th>\n",
       "      <td>ACURA</td>\n",
       "      <td>RLX</td>\n",
       "      <td>MID-SIZE</td>\n",
       "      <td>3.5</td>\n",
       "      <td>6</td>\n",
       "      <td>AS6</td>\n",
       "      <td>Z</td>\n",
       "      <td>11.9</td>\n",
       "      <td>7.7</td>\n",
       "      <td>10.0</td>\n",
       "      <td>28</td>\n",
       "      <td>230</td>\n",
       "    </tr>\n",
       "    <tr>\n",
       "      <th>6</th>\n",
       "      <td>ACURA</td>\n",
       "      <td>TL</td>\n",
       "      <td>MID-SIZE</td>\n",
       "      <td>3.5</td>\n",
       "      <td>6</td>\n",
       "      <td>AS6</td>\n",
       "      <td>Z</td>\n",
       "      <td>11.8</td>\n",
       "      <td>8.1</td>\n",
       "      <td>10.1</td>\n",
       "      <td>28</td>\n",
       "      <td>232</td>\n",
       "    </tr>\n",
       "    <tr>\n",
       "      <th>7</th>\n",
       "      <td>ACURA</td>\n",
       "      <td>TL AWD</td>\n",
       "      <td>MID-SIZE</td>\n",
       "      <td>3.7</td>\n",
       "      <td>6</td>\n",
       "      <td>AS6</td>\n",
       "      <td>Z</td>\n",
       "      <td>12.8</td>\n",
       "      <td>9.0</td>\n",
       "      <td>11.1</td>\n",
       "      <td>25</td>\n",
       "      <td>255</td>\n",
       "    </tr>\n",
       "    <tr>\n",
       "      <th>8</th>\n",
       "      <td>ACURA</td>\n",
       "      <td>TL AWD</td>\n",
       "      <td>MID-SIZE</td>\n",
       "      <td>3.7</td>\n",
       "      <td>6</td>\n",
       "      <td>M6</td>\n",
       "      <td>Z</td>\n",
       "      <td>13.4</td>\n",
       "      <td>9.5</td>\n",
       "      <td>11.6</td>\n",
       "      <td>24</td>\n",
       "      <td>267</td>\n",
       "    </tr>\n",
       "    <tr>\n",
       "      <th>9</th>\n",
       "      <td>ACURA</td>\n",
       "      <td>TSX</td>\n",
       "      <td>COMPACT</td>\n",
       "      <td>2.4</td>\n",
       "      <td>4</td>\n",
       "      <td>AS5</td>\n",
       "      <td>Z</td>\n",
       "      <td>10.6</td>\n",
       "      <td>7.5</td>\n",
       "      <td>9.2</td>\n",
       "      <td>31</td>\n",
       "      <td>212</td>\n",
       "    </tr>\n",
       "  </tbody>\n",
       "</table>\n",
       "</div>"
      ],
      "text/plain": [
       "    Make       Model Vehicle Class  Engine Size(L)  Cylinders Transmission  \\\n",
       "0  ACURA         ILX       COMPACT             2.0          4          AS5   \n",
       "1  ACURA         ILX       COMPACT             2.4          4           M6   \n",
       "2  ACURA  ILX HYBRID       COMPACT             1.5          4          AV7   \n",
       "3  ACURA     MDX 4WD   SUV - SMALL             3.5          6          AS6   \n",
       "4  ACURA     RDX AWD   SUV - SMALL             3.5          6          AS6   \n",
       "5  ACURA         RLX      MID-SIZE             3.5          6          AS6   \n",
       "6  ACURA          TL      MID-SIZE             3.5          6          AS6   \n",
       "7  ACURA      TL AWD      MID-SIZE             3.7          6          AS6   \n",
       "8  ACURA      TL AWD      MID-SIZE             3.7          6           M6   \n",
       "9  ACURA         TSX       COMPACT             2.4          4          AS5   \n",
       "\n",
       "  Fuel Type  Fuel Consumption City (L/100 km)  \\\n",
       "0         Z                               9.9   \n",
       "1         Z                              11.2   \n",
       "2         Z                               6.0   \n",
       "3         Z                              12.7   \n",
       "4         Z                              12.1   \n",
       "5         Z                              11.9   \n",
       "6         Z                              11.8   \n",
       "7         Z                              12.8   \n",
       "8         Z                              13.4   \n",
       "9         Z                              10.6   \n",
       "\n",
       "   Fuel Consumption Hwy (L/100 km)  Fuel Consumption Comb (L/100 km)  \\\n",
       "0                              6.7                               8.5   \n",
       "1                              7.7                               9.6   \n",
       "2                              5.8                               5.9   \n",
       "3                              9.1                              11.1   \n",
       "4                              8.7                              10.6   \n",
       "5                              7.7                              10.0   \n",
       "6                              8.1                              10.1   \n",
       "7                              9.0                              11.1   \n",
       "8                              9.5                              11.6   \n",
       "9                              7.5                               9.2   \n",
       "\n",
       "   Fuel Consumption Comb (mpg)  CO2 Emissions(g/km)  \n",
       "0                           33                  196  \n",
       "1                           29                  221  \n",
       "2                           48                  136  \n",
       "3                           25                  255  \n",
       "4                           27                  244  \n",
       "5                           28                  230  \n",
       "6                           28                  232  \n",
       "7                           25                  255  \n",
       "8                           24                  267  \n",
       "9                           31                  212  "
      ]
     },
     "execution_count": 3,
     "metadata": {},
     "output_type": "execute_result"
    }
   ],
   "source": [
    "df.head(10)"
   ]
  },
  {
   "cell_type": "code",
   "execution_count": 4,
   "id": "5b1c9738-24dc-4e38-8258-51a712f8ea87",
   "metadata": {},
   "outputs": [
    {
     "name": "stdout",
     "output_type": "stream",
     "text": [
      "<class 'pandas.core.frame.DataFrame'>\n",
      "RangeIndex: 7385 entries, 0 to 7384\n",
      "Data columns (total 12 columns):\n",
      " #   Column                            Non-Null Count  Dtype  \n",
      "---  ------                            --------------  -----  \n",
      " 0   Make                              7385 non-null   object \n",
      " 1   Model                             7385 non-null   object \n",
      " 2   Vehicle Class                     7385 non-null   object \n",
      " 3   Engine Size(L)                    7385 non-null   float64\n",
      " 4   Cylinders                         7385 non-null   int64  \n",
      " 5   Transmission                      7385 non-null   object \n",
      " 6   Fuel Type                         7385 non-null   object \n",
      " 7   Fuel Consumption City (L/100 km)  7385 non-null   float64\n",
      " 8   Fuel Consumption Hwy (L/100 km)   7385 non-null   float64\n",
      " 9   Fuel Consumption Comb (L/100 km)  7385 non-null   float64\n",
      " 10  Fuel Consumption Comb (mpg)       7385 non-null   int64  \n",
      " 11  CO2 Emissions(g/km)               7385 non-null   int64  \n",
      "dtypes: float64(4), int64(3), object(5)\n",
      "memory usage: 692.5+ KB\n"
     ]
    }
   ],
   "source": [
    "df.info()"
   ]
  },
  {
   "cell_type": "markdown",
   "id": "5da49d34-952e-474d-86c3-3fb3981bb06b",
   "metadata": {},
   "source": [
    "### Dataset Overview\n",
    "- **Total rows:** 7,385  \n",
    "- **Total columns:** 12  \n",
    "- **Memory usage:** ~692.5 KB  \n",
    "- **No missing values** in any column.\n",
    "\n",
    "---\n",
    "\n",
    "### Columns Description\n",
    "\n",
    "1. **Make** *(object)* – Car manufacturer (e.g., Toyota, BMW).  \n",
    "2. **Model** *(object)* – Specific model name of the vehicle.  \n",
    "3. **Vehicle Class** *(object)* – Category/type of the vehicle (e.g., SUV, sedan).  \n",
    "4. **Engine Size (L)** *(float64)* – Engine displacement in liters.  \n",
    "5. **Cylinders** *(int64)* – Number of engine cylinders.  \n",
    "6. **Transmission** *(object)* – Gearbox type and details (e.g., A6 = 6-speed automatic).  \n",
    "7. **Fuel Type** *(object)* – Fuel code:  \n",
    "   - **Z** = Regular gasoline  \n",
    "   - **D** = Diesel  \n",
    "   - **X** = Premium gasoline  \n",
    "   - **E** = Ethanol (E85)  \n",
    "   - **N** = Natural gas  \n",
    "8. **Fuel Consumption City (L/100 km)** *(float64)* – Fuel usage in city driving.  \n",
    "9. **Fuel Consumption Hwy (L/100 km)** *(float64)* – Fuel usage in highway driving.  \n",
    "10. **Fuel Consumption Comb (L/100 km)** *(float64)* – Combined fuel usage.  \n",
    "11. **Fuel Consumption Comb (mpg)** *(int64)* – Combined fuel efficiency in miles per gallon.  \n",
    "12. **CO₂ Emissions (g/km)** *(int64)* – CO₂ emitted per kilometer.\n",
    "\n",
    "---\n",
    "\n",
    "### Key Points\n",
    "- **5 categorical columns:** Make, Model, Vehicle Class, Transmission, Fuel Type  \n",
    "- **4 continuous numeric columns:** Engine Size, City/Highway/Combined fuel consumption (L/100 km)  \n",
    "- **3 integer numeric columns:** Cylinders, Combined fuel consumption (mpg), CO₂ emissions  \n",
    "\n"
   ]
  },
  {
   "cell_type": "code",
   "execution_count": 5,
   "id": "d4a5b044-013b-4586-ab8d-70afa9a3f9b7",
   "metadata": {},
   "outputs": [
    {
     "data": {
      "text/html": [
       "<div>\n",
       "<style scoped>\n",
       "    .dataframe tbody tr th:only-of-type {\n",
       "        vertical-align: middle;\n",
       "    }\n",
       "\n",
       "    .dataframe tbody tr th {\n",
       "        vertical-align: top;\n",
       "    }\n",
       "\n",
       "    .dataframe thead th {\n",
       "        text-align: right;\n",
       "    }\n",
       "</style>\n",
       "<table border=\"1\" class=\"dataframe\">\n",
       "  <thead>\n",
       "    <tr style=\"text-align: right;\">\n",
       "      <th></th>\n",
       "      <th>Engine Size(L)</th>\n",
       "      <th>Cylinders</th>\n",
       "      <th>Fuel Consumption City (L/100 km)</th>\n",
       "      <th>Fuel Consumption Hwy (L/100 km)</th>\n",
       "      <th>Fuel Consumption Comb (L/100 km)</th>\n",
       "      <th>Fuel Consumption Comb (mpg)</th>\n",
       "      <th>CO2 Emissions(g/km)</th>\n",
       "    </tr>\n",
       "  </thead>\n",
       "  <tbody>\n",
       "    <tr>\n",
       "      <th>count</th>\n",
       "      <td>7385.000000</td>\n",
       "      <td>7385.000000</td>\n",
       "      <td>7385.000000</td>\n",
       "      <td>7385.000000</td>\n",
       "      <td>7385.000000</td>\n",
       "      <td>7385.000000</td>\n",
       "      <td>7385.000000</td>\n",
       "    </tr>\n",
       "    <tr>\n",
       "      <th>mean</th>\n",
       "      <td>3.160068</td>\n",
       "      <td>5.615030</td>\n",
       "      <td>12.556534</td>\n",
       "      <td>9.041706</td>\n",
       "      <td>10.975071</td>\n",
       "      <td>27.481652</td>\n",
       "      <td>250.584699</td>\n",
       "    </tr>\n",
       "    <tr>\n",
       "      <th>std</th>\n",
       "      <td>1.354170</td>\n",
       "      <td>1.828307</td>\n",
       "      <td>3.500274</td>\n",
       "      <td>2.224456</td>\n",
       "      <td>2.892506</td>\n",
       "      <td>7.231879</td>\n",
       "      <td>58.512679</td>\n",
       "    </tr>\n",
       "    <tr>\n",
       "      <th>min</th>\n",
       "      <td>0.900000</td>\n",
       "      <td>3.000000</td>\n",
       "      <td>4.200000</td>\n",
       "      <td>4.000000</td>\n",
       "      <td>4.100000</td>\n",
       "      <td>11.000000</td>\n",
       "      <td>96.000000</td>\n",
       "    </tr>\n",
       "    <tr>\n",
       "      <th>25%</th>\n",
       "      <td>2.000000</td>\n",
       "      <td>4.000000</td>\n",
       "      <td>10.100000</td>\n",
       "      <td>7.500000</td>\n",
       "      <td>8.900000</td>\n",
       "      <td>22.000000</td>\n",
       "      <td>208.000000</td>\n",
       "    </tr>\n",
       "    <tr>\n",
       "      <th>50%</th>\n",
       "      <td>3.000000</td>\n",
       "      <td>6.000000</td>\n",
       "      <td>12.100000</td>\n",
       "      <td>8.700000</td>\n",
       "      <td>10.600000</td>\n",
       "      <td>27.000000</td>\n",
       "      <td>246.000000</td>\n",
       "    </tr>\n",
       "    <tr>\n",
       "      <th>75%</th>\n",
       "      <td>3.700000</td>\n",
       "      <td>6.000000</td>\n",
       "      <td>14.600000</td>\n",
       "      <td>10.200000</td>\n",
       "      <td>12.600000</td>\n",
       "      <td>32.000000</td>\n",
       "      <td>288.000000</td>\n",
       "    </tr>\n",
       "    <tr>\n",
       "      <th>max</th>\n",
       "      <td>8.400000</td>\n",
       "      <td>16.000000</td>\n",
       "      <td>30.600000</td>\n",
       "      <td>20.600000</td>\n",
       "      <td>26.100000</td>\n",
       "      <td>69.000000</td>\n",
       "      <td>522.000000</td>\n",
       "    </tr>\n",
       "  </tbody>\n",
       "</table>\n",
       "</div>"
      ],
      "text/plain": [
       "       Engine Size(L)    Cylinders  Fuel Consumption City (L/100 km)  \\\n",
       "count     7385.000000  7385.000000                       7385.000000   \n",
       "mean         3.160068     5.615030                         12.556534   \n",
       "std          1.354170     1.828307                          3.500274   \n",
       "min          0.900000     3.000000                          4.200000   \n",
       "25%          2.000000     4.000000                         10.100000   \n",
       "50%          3.000000     6.000000                         12.100000   \n",
       "75%          3.700000     6.000000                         14.600000   \n",
       "max          8.400000    16.000000                         30.600000   \n",
       "\n",
       "       Fuel Consumption Hwy (L/100 km)  Fuel Consumption Comb (L/100 km)  \\\n",
       "count                      7385.000000                       7385.000000   \n",
       "mean                          9.041706                         10.975071   \n",
       "std                           2.224456                          2.892506   \n",
       "min                           4.000000                          4.100000   \n",
       "25%                           7.500000                          8.900000   \n",
       "50%                           8.700000                         10.600000   \n",
       "75%                          10.200000                         12.600000   \n",
       "max                          20.600000                         26.100000   \n",
       "\n",
       "       Fuel Consumption Comb (mpg)  CO2 Emissions(g/km)  \n",
       "count                  7385.000000          7385.000000  \n",
       "mean                     27.481652           250.584699  \n",
       "std                       7.231879            58.512679  \n",
       "min                      11.000000            96.000000  \n",
       "25%                      22.000000           208.000000  \n",
       "50%                      27.000000           246.000000  \n",
       "75%                      32.000000           288.000000  \n",
       "max                      69.000000           522.000000  "
      ]
     },
     "execution_count": 5,
     "metadata": {},
     "output_type": "execute_result"
    }
   ],
   "source": [
    "df.describe()"
   ]
  },
  {
   "cell_type": "markdown",
   "id": "8c35f958-5af3-4488-915c-94a31b414af7",
   "metadata": {},
   "source": [
    "### Numeric Column Statistics\n",
    "\n",
    "| Column                                | Mean   | Std Dev | Min  | Max  |\n",
    "|---------------------------------------|--------|---------|------|------|\n",
    "| Engine Size (L)                       | ~3.35  | ~1.36   | 1.0  | 8.4  |\n",
    "| Cylinders                             | ~6.01  | ~1.94   | 3    | 16   |\n",
    "| Fuel Consumption City (L/100 km)      | ~13.74 | ~4.68   | 4.6  | 30.2 |\n",
    "| Fuel Consumption Hwy (L/100 km)       | ~9.57  | ~3.12   | 3.5  | 20.8 |\n",
    "| Fuel Consumption Comb (L/100 km)      | ~11.85 | ~3.75   | 4.1  | 26.1 |\n",
    "| Fuel Consumption Comb (mpg)           | ~24.9  | ~8.12   | 9    | 60   |\n",
    "| CO₂ Emissions (g/km)                  | ~279.4 | ~88.0   | 108  | 617  |\n",
    "\n",
    "---\n",
    "\n",
    "### Column Types\n",
    "- **Categorical:** Make, Model, Vehicle Class, Transmission, Fuel Type\n",
    "- **Numeric (Continuous):** Engine Size (L), Fuel Consumption City, Hwy, Comb (L/100 km)\n",
    "- **Numeric (Discrete):** Cylinders, Fuel Consumption Comb (mpg), CO₂ Emissions"
   ]
  },
  {
   "cell_type": "markdown",
   "id": "30362180-77ba-411e-9917-9d45601e9640",
   "metadata": {},
   "source": [
    "Checking Null values"
   ]
  },
  {
   "cell_type": "code",
   "execution_count": 6,
   "id": "23f759d8-8c55-4081-9c49-4371af78c106",
   "metadata": {},
   "outputs": [
    {
     "data": {
      "text/plain": [
       "Make                                0\n",
       "Model                               0\n",
       "Vehicle Class                       0\n",
       "Engine Size(L)                      0\n",
       "Cylinders                           0\n",
       "Transmission                        0\n",
       "Fuel Type                           0\n",
       "Fuel Consumption City (L/100 km)    0\n",
       "Fuel Consumption Hwy (L/100 km)     0\n",
       "Fuel Consumption Comb (L/100 km)    0\n",
       "Fuel Consumption Comb (mpg)         0\n",
       "CO2 Emissions(g/km)                 0\n",
       "dtype: int64"
      ]
     },
     "execution_count": 6,
     "metadata": {},
     "output_type": "execute_result"
    }
   ],
   "source": [
    "df.isnull().sum()"
   ]
  },
  {
   "cell_type": "markdown",
   "id": "5118a33e-9172-4841-8852-982fbd9992ae",
   "metadata": {},
   "source": [
    "So there are no null values"
   ]
  },
  {
   "cell_type": "markdown",
   "id": "ed027e76-1aea-4ae3-b6ef-3cc35343a2f3",
   "metadata": {},
   "source": [
    "#### Checking unique values"
   ]
  },
  {
   "cell_type": "code",
   "execution_count": 7,
   "id": "628a5b7d-b03b-4bca-9732-8fb82f555ebe",
   "metadata": {},
   "outputs": [
    {
     "name": "stdout",
     "output_type": "stream",
     "text": [
      "2053\n",
      "42\n",
      "16\n",
      "51\n",
      "8\n",
      "27\n",
      "5\n"
     ]
    }
   ],
   "source": [
    "print(df['Model'].nunique())\n",
    "print(df['Make'].nunique())\n",
    "print(df['Vehicle Class'].nunique())\n",
    "print(df['Engine Size(L)'].nunique())\n",
    "print(df['Cylinders'].nunique())\n",
    "print(df['Transmission'].nunique())\n",
    "print(df['Fuel Type'].nunique())\n",
    "\n"
   ]
  },
  {
   "cell_type": "code",
   "execution_count": 8,
   "id": "41cd55fc-1c5f-4bc7-bd6b-4f3557ff8ba4",
   "metadata": {},
   "outputs": [
    {
     "name": "stdout",
     "output_type": "stream",
     "text": [
      "fuel\n",
      " ['Z' 'D' 'X' 'E' 'N']\n"
     ]
    }
   ],
   "source": [
    "print(\"fuel\\n\", df['Fuel Type'].unique())"
   ]
  },
  {
   "cell_type": "code",
   "execution_count": 9,
   "id": "a1ac90c6-e852-48ab-920e-e4bbc5adbe4d",
   "metadata": {},
   "outputs": [
    {
     "name": "stdout",
     "output_type": "stream",
     "text": [
      "Cylinders\n",
      " [ 4  6 12  8 10  3  5 16]\n"
     ]
    }
   ],
   "source": [
    "\n",
    "print(\"Cylinders\\n\", df['Cylinders'].unique())"
   ]
  },
  {
   "cell_type": "markdown",
   "id": "0fa55c90-cc94-4179-840a-865ce3f775c7",
   "metadata": {},
   "source": [
    "- **Vehicle Model** → **2053** unique values  \n",
    "- **Vehicle Class** → **16** unique values\n",
    "- **Vehicle Company** → **42** unique values \n",
    "- **Vehicle Engine Size (L)** → **51** unique values  \n",
    "- **Vehicle Cylinders** → **8** unique values  \n",
    "  - Possible values: **[4, 6, 12, 8, 10, 3, 5, 16]**  \n",
    "- **Vehicle Transmission** → **27** unique values  \n",
    "- **Vehicle Fuel Type** → **5** unique values  \n",
    "  - Possible values: **['Z', 'D', 'X', 'E', 'N']**\n"
   ]
  },
  {
   "cell_type": "markdown",
   "id": "18dbb567-ad5d-477d-8e8a-421ef871b928",
   "metadata": {},
   "source": [
    "# Now Checking Co2 Distribution by Fuel Type"
   ]
  },
  {
   "cell_type": "code",
   "execution_count": 10,
   "id": "961f49b8-85de-4066-b8e0-19484c6cc6f2",
   "metadata": {},
   "outputs": [
    {
     "name": "stderr",
     "output_type": "stream",
     "text": [
      "C:\\Users\\DELL\\AppData\\Local\\Temp\\ipykernel_30352\\3537130754.py:24: UserWarning: Glyph 8322 (\\N{SUBSCRIPT TWO}) missing from current font.\n",
      "  plt.tight_layout()\n",
      "C:\\Users\\DELL\\AppData\\Local\\Programs\\Python\\Python312\\Lib\\site-packages\\IPython\\core\\pylabtools.py:152: UserWarning: Glyph 8322 (\\N{SUBSCRIPT TWO}) missing from current font.\n",
      "  fig.canvas.print_figure(bytes_io, **kw)\n"
     ]
    },
    {
     "data": {
      "image/png": "[encoded data removed]",
      "text/plain": [
       "<Figure size 1000x600 with 1 Axes>"
      ]
     },
     "metadata": {},
     "output_type": "display_data"
    }
   ],
   "source": [
    "import seaborn as sns\n",
    "import matplotlib.pyplot as plt\n",
    "\n",
    "# Set style\n",
    "sns.set(style=\"whitegrid\")\n",
    "\n",
    "# Plot histogram with KDE\n",
    "plt.figure(figsize=(10, 6))\n",
    "sns.histplot(\n",
    "    data=df,\n",
    "    x=\"CO2 Emissions(g/km)\",\n",
    "    hue=\"Fuel Type\",       # color by fuel type\n",
    "    multiple=\"stack\",      # stack bars by category\n",
    "    kde=True,              # show KDE curve\n",
    "    palette=\"Set2\",        # color palette\n",
    "    edgecolor=\"black\"\n",
    ")\n",
    "\n",
    "# Labels and title\n",
    "plt.title(\"Distribution of CO₂ Emissions by Fuel Type\", fontsize=16)\n",
    "plt.xlabel(\"CO₂ Emissions (g/km)\", fontsize=14)\n",
    "plt.ylabel(\"Number of Vehicles\", fontsize=14)\n",
    "\n",
    "plt.tight_layout()\n",
    "plt.show()\n"
   ]
  },
  {
   "cell_type": "markdown",
   "id": "4881984e-7b3d-4623-9d9e-e8f77ef43e6c",
   "metadata": {},
   "source": [
    "Distribution Shape\n",
    "\n",
    "    Most vehicles emit between 175–300 g/km.\n",
    "\n",
    "    Peaks occur between 200–250 g/km for certain fuel types.\n",
    "\n",
    "    Electric or low-emission categories likely appear on the lower end, but here every category seems to start above ~100 g/km (possibly due to the dataset).\n",
    "\n",
    "Fuel Type Comparisons\n",
    "\n",
    "    Z fuel type is the most common and has a wide spread but a peak around ~225 g/km.\n",
    "\n",
    "    X fuel type has a similar peak but slightly lower frequency.\n",
    "\n",
    "    E has relatively fewer vehicles and generally lower CO₂ emissions.\n",
    "\n",
    "    D and N are less frequent but still appear in similar ranges.\n",
    "\n",
    "Overall Pattern\n",
    "\n",
    "    Emission distribution is slightly right-skewed — fewer vehicles have extremely high emissions (>350 g/km).\n",
    "\n",
    "    Some overlap exists between fuel types, meaning different fuels can still produce similar emissions."
   ]
  },
  {
   "cell_type": "markdown",
   "id": "3d1dbfff-60fb-45f6-9bdf-642feff3738a",
   "metadata": {},
   "source": [
    "## Vehicle Count by fuel Type"
   ]
  },
  {
   "cell_type": "code",
   "execution_count": null,
   "id": "0a4fb3ed-8671-4df2-a0d3-8bfb69d6e64d",
   "metadata": {},
   "outputs": [],
   "source": [
    "# Count vehicles for each fuel type\n",
    "fuel_counts = df['Fuel Type'].value_counts()\n",
    "\n",
    "# Print counts\n",
    "print(\"Vehicle Count by Fuel Type:\")\n",
    "print(fuel_counts)\n"
   ]
  },
  {
   "cell_type": "code",
   "execution_count": null,
   "id": "d65241b6-1f42-4575-9abc-76c422b59d45",
   "metadata": {},
   "outputs": [],
   "source": [
    "# Example: Count vehicles for each fuel type\n",
    "fuel_counts = df['Fuel Type'].value_counts()\n",
    "\n",
    "# Create explode list to highlight small categories (<2%)\n",
    "explode = [0.1 if (count / fuel_counts.sum()) < 0.02 else 0 \n",
    "           for count in fuel_counts]\n",
    "\n",
    "# Plot donut-style pie chart\n",
    "plt.figure(figsize=(9, 9))\n",
    "wedges, texts, autotexts = plt.pie(\n",
    "    fuel_counts,\n",
    "    labels=fuel_counts.index,\n",
    "    autopct=lambda p: f'{p:.1f}%\\n({int(p*fuel_counts.sum()/100)})',  # % + count\n",
    "    startangle=90,\n",
    "    explode=explode,\n",
    "    colors=plt.cm.tab20.colors,\n",
    "    wedgeprops=dict(width=0.4, edgecolor='w')  # donut style\n",
    ")\n",
    "\n",
    "# Improve label font size\n",
    "plt.setp(texts, size=12)\n",
    "plt.setp(autotexts, size=10, weight=\"bold\")\n",
    "\n",
    "# Title\n",
    "plt.title('Distribution of Vehicles by Fuel Type', fontsize=16)\n",
    "plt.axis('equal')\n",
    "plt.tight_layout()\n",
    "plt.show()"
   ]
  },
  {
   "cell_type": "markdown",
   "id": "f947edfd-58c6-4b00-8197-ad7a2f287f6c",
   "metadata": {},
   "source": [
    "Z - Regular Gasoline - 43.4%\n",
    "x- Premium Gasoline - 49.2 %"
   ]
  },
  {
   "cell_type": "code",
   "execution_count": null,
   "id": "a10d8d5d-effe-49dd-a980-744bf11cf3ec",
   "metadata": {},
   "outputs": [],
   "source": [
    "# Group by fuel type and get average & max CO₂ emissions\n",
    "co2_stats = df.groupby('Fuel Type')['CO2 Emissions(g/km)'].agg(['mean']).reset_index()\n",
    "\n",
    "# Rename columns for clarity\n",
    "co2_stats.columns = ['Fuel Type', 'Average CO₂ (g/km)']\n",
    "\n",
    "# Print results\n",
    "print(co2_stats)\n"
   ]
  },
  {
   "cell_type": "markdown",
   "id": "9d3d6ba0-25af-4dc7-80a2-ea4fb481ceb0",
   "metadata": {},
   "source": [
    "### Not so much difference by fule type co2 Emmision"
   ]
  },
  {
   "cell_type": "markdown",
   "id": "86d6b81c-db7c-4b5c-b458-1a696804bdcf",
   "metadata": {},
   "source": [
    "# Now Check Vehicle Company Distribution and their emision"
   ]
  },
  {
   "cell_type": "code",
   "execution_count": null,
   "id": "525d5089-979f-4f5f-b2b5-03be46fbe6e8",
   "metadata": {},
   "outputs": [],
   "source": [
    "df['Make'].value_counts().sort_values(ascending = False)"
   ]
  },
  {
   "cell_type": "markdown",
   "id": "657622b5-2a0f-4696-8870-aa25b7c08ed8",
   "metadata": {},
   "source": [
    "### Top 7 Company Brands\n",
    "\n",
    "| Rank | Brand         | Vehicle Count |\n",
    "|------|--------------|---------------|\n",
    "| 1    | FORD         | 628           |\n",
    "| 2    | CHEVROLET    | 588           |\n",
    "| 3    | BMW          | 527           |\n",
    "| 4    | MERCEDES-BENZ| 419           |\n",
    "| 5    | PORSCHE      | 376           |\n",
    "| 6    | TOYOTA       | 330           |\n",
    "| 7    | GMC          | 328           |\n"
   ]
  },
  {
   "cell_type": "code",
   "execution_count": null,
   "id": "d27719c0-df2f-4352-9d52-26d8764310d6",
   "metadata": {},
   "outputs": [],
   "source": [
    "# Calculate average CO₂ emissions per make\n",
    "make_co2 = df.groupby('Make')['CO2 Emissions(g/km)'].mean().sort_values(ascending=False)\n",
    "\n",
    "# Plot horizontal histogram (bar plot)\n",
    "plt.figure(figsize=(10, 12))\n",
    "sns.barplot(\n",
    "    x=make_co2.values,\n",
    "    y=make_co2.index,\n",
    "    palette=\"viridis\"\n",
    ")\n",
    "plt.title('Average CO₂ Emissions by Car Make', fontsize=16)\n",
    "plt.xlabel('Average CO₂ Emissions (g/km)')\n",
    "plt.ylabel('Car Make')\n",
    "plt.grid(axis='x', linestyle='--', alpha=0.7)\n",
    "plt.show()"
   ]
  },
  {
   "cell_type": "markdown",
   "id": "3ac36f52-e363-4515-8802-6b608ad7d1cf",
   "metadata": {},
   "source": [
    "### 📌 Key Takeaways from CO₂ Emission Analysis\n",
    "\n",
    "- **Top Emitters:** Bugatti, Lamborghini, and SRT lead in average CO₂ emissions due to their high-performance, large-engine sports cars.  \n",
    "- **Luxury Dominance:** Rolls-Royce, Bentley, Aston Martin, and Maserati also rank high, prioritizing performance over efficiency.  \n",
    "- **Mid-Range:** Brands like Ford, Porsche, BMW, and Chevrolet show mixed performance–efficiency profiles.  \n",
    "- **Lowest Emitters:** Honda and Smart stand out as the most eco-friendly, producing smaller, fuel-efficient vehicles.  \n",
    "- **Overall Trend:** High-performance and luxury brands emit significantly more CO₂, while mass-market economy cars are far cleaner.\n"
   ]
  },
  {
   "cell_type": "code",
   "execution_count": null,
   "id": "0c1af7c6-4229-48eb-a51c-54dc0c95170f",
   "metadata": {},
   "outputs": [],
   "source": [
    "plt.figure(figsize=(10, 6))\n",
    "sns.scatterplot(\n",
    "    data=df, \n",
    "    x='Engine Size(L)', \n",
    "    y='CO2 Emissions(g/km)', \n",
    "    hue='Fuel Type', \n",
    "    alpha=0.7, \n",
    "    palette='Set2'\n",
    ")\n",
    "\n",
    "plt.title('Engine Size vs CO₂ Emissions by Fuel Type')\n",
    "plt.xlabel('Engine Size (L)')\n",
    "plt.ylabel('CO₂ Emissions (g/km)')\n",
    "plt.grid(True, linestyle='--', alpha=0.6)\n",
    "plt.legend(title='Fuel Type', bbox_to_anchor=(1.05, 1), loc='upper left')\n",
    "plt.tight_layout()\n",
    "plt.show()\n"
   ]
  },
  {
   "cell_type": "code",
   "execution_count": null,
   "id": "c862f2d7-98cd-4047-9cc6-5a0b05571064",
   "metadata": {},
   "outputs": [],
   "source": [
    "plt.figure(figsize=(10, 6))\n",
    "sns.scatterplot(\n",
    "    data=df, \n",
    "    x='Cylinders', \n",
    "    y='CO2 Emissions(g/km)', \n",
    "    hue='Fuel Type', \n",
    "    alpha=0.7, \n",
    "    palette='Set2'\n",
    ")\n",
    "\n",
    "plt.title('Engine Size vs CO₂ Emissions by Fuel Type')\n",
    "plt.xlabel('Cylinders')\n",
    "plt.ylabel('CO₂ Emissions (g/km)')\n",
    "plt.grid(True, linestyle='--', alpha=0.6)\n",
    "plt.legend(title='Fuel Type', bbox_to_anchor=(1.05, 1), loc='upper left')\n",
    "plt.tight_layout()\n",
    "plt.show()\n"
   ]
  },
  {
   "cell_type": "code",
   "execution_count": null,
   "id": "44f8716f-34f9-4ff7-83d6-b9f72775b171",
   "metadata": {},
   "outputs": [],
   "source": []
  }
 ],
 "metadata": {
  "kernelspec": {
   "display_name": "Python 3 (ipykernel)",
   "language": "python",
   "name": "python3"
  },
  "language_info": {
   "codemirror_mode": {
    "name": "ipython",
    "version": 3
   },
   "file_extension": ".py",
   "mimetype": "text/x-python",
   "name": "python",
   "nbconvert_exporter": "python",
   "pygments_lexer": "ipython3",
   "version": "3.12.1"
  }
 },
 "nbformat": 4,
 "nbformat_minor": 5
}
